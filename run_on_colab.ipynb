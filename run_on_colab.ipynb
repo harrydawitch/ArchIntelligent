{
  "nbformat": 4,
  "nbformat_minor": 0,
  "metadata": {
    "colab": {
      "provenance": [],
      "machine_shape": "hm",
      "gpuType": "T4",
      "authorship_tag": "ABX9TyPujlM0Qestt7otgFVKNVVI"
    },
    "kernelspec": {
      "name": "python3",
      "display_name": "Python 3"
    },
    "language_info": {
      "name": "python"
    },
    "accelerator": "GPU"
  },
  "cells": [
    {
      "cell_type": "markdown",
      "source": [
        "# **ArchIntelligent - Generative Design for Architects**\n"
      ],
      "metadata": {
        "id": "TmkG_xczZT6t"
      }
    },
    {
      "cell_type": "markdown",
      "source": [
        "# 1. **Clone ArchIntelligent Repository & Load model**\n",
        "\n",
        "---"
      ],
      "metadata": {
        "id": "PoI4SdszzXAh"
      }
    },
    {
      "cell_type": "code",
      "source": [
        "#@title 1.1 **Clone Repository**\n",
        "%cd /content/\n",
        "!git clone https://github.com/harrydawitch/ArchIntelligent.git\n",
        "%cd ArchIntelligent\n",
        "!pip install -q -r requirements.txt 2>/dev/null\n",
        "\n",
        "# install optimizers libraries\n",
        "!pip install -q peft xformers bitsandbytes dotenv"
      ],
      "metadata": {
        "id": "fzh9ikaUdjuS",
        "cellView": "form"
      },
      "execution_count": null,
      "outputs": []
    },
    {
      "cell_type": "code",
      "source": [
        "#@title 1.2 **Check GPU**\n",
        "\n",
        "!nvidia-smi"
      ],
      "metadata": {
        "id": "CIHSsxf7z_Zo",
        "cellView": "form"
      },
      "execution_count": null,
      "outputs": []
    },
    {
      "cell_type": "code",
      "source": [
        "#@title 1.3 **Load ArchIntelligent Model**\n",
        "from backend.inference import ArchIntelligent\n",
        "\n",
        "model = ArchIntelligent()"
      ],
      "metadata": {
        "id": "S-GTEQo3zL9z",
        "cellView": "form"
      },
      "execution_count": null,
      "outputs": []
    },
    {
      "cell_type": "markdown",
      "source": [
        "# 2. **Choose settings**\n",
        "---"
      ],
      "metadata": {
        "id": "7_OP3b4LmO-R"
      }
    },
    {
      "cell_type": "code",
      "source": [
        "#@title 2.1 **Input your image**\n",
        "\n",
        "input_img_path = \"\" #@param {type:\"string\"}"
      ],
      "metadata": {
        "id": "hbgNuSEDohgA",
        "cellView": "form"
      },
      "execution_count": null,
      "outputs": []
    },
    {
      "cell_type": "code",
      "source": [
        "#@title **2.2 Choose style and functional of the building**\n",
        "styles = \"Modern\" # @param [\"Modern\", \"Minimalism\",\"Art Deco\", \"Art Nouveau\",\"Baroque\", \"Brutalist\", \"Classical\", \"Neo-Classical\", \"Cyberpunk\", \"Deconstructivism\", \"Futurism\", \"Sustainable\",\"Gothic\",  \"Neo-Futurism\", \"Victorian\"]\n",
        "functional= \"Residential\" # @param [\"Residential\", \"Villa\", \"Office\", \"Skyscraper\", \"Hotel\", \"School Campus\", \"Farmhouse\", \"Playground\", \"Park\", \"Apartment\", \"Hospital\", \"Kindergarten\", \"Church\", \"Container\", \"Bridge\", \"Resort\", \"Airport\", \"Factory\", \"Stadium\", \"Temple\", \"Tree House\"]\n"
      ],
      "metadata": {
        "cellView": "form",
        "id": "cgcIssblmn02"
      },
      "execution_count": null,
      "outputs": []
    },
    {
      "cell_type": "code",
      "source": [
        "#@title **2.3 Add details to your design**\n",
        "\n",
        "season= \"Summer\" #@param [\"Spring\", \"Summer\", \"Autumn\", \"Winter\"]\n",
        "weather= \"Sunny\" #@param ['Sunny', \"Rainy\", \"Cloudy\", \"Foggy\", \"Snowy\", \"Storm\"]\n",
        "time = \"Mid day\" #@param [\"Sunrise\", \"Mid day\", \"Sunset\", \"Night\"]\n",
        "landscape = \"Coastal\" #@param [\"Urban\", \"Suburban\", \"Coastal\", \"Grassland\", 'Forest', 'Tropical', \"Desert\", \"Mountain\", \"Swamp\", \"Polar\"]\n"
      ],
      "metadata": {
        "cellView": "form",
        "id": "kEFHdwMFphbK"
      },
      "execution_count": null,
      "outputs": []
    },
    {
      "cell_type": "code",
      "source": [
        "#@title 2.4 **Use prompt & negative propmt to guide the model**\n",
        "\n",
        "prompt= \"\" #@param {type: \"string\"}\n",
        "negative_prompt= \"\" #@param {type: \"string\"}"
      ],
      "metadata": {
        "cellView": "form",
        "id": "3X0UpQDxsTpA"
      },
      "execution_count": null,
      "outputs": []
    },
    {
      "cell_type": "code",
      "source": [
        "#@title **2.5 Choose creative and image strength**\n",
        "\n",
        "creative = 7.3 #@param {type:\"slider\", min: 0.0, max: 15.0, step: 0.1}\n",
        "strength = 0.48 #@param {type:\"slider\", min: 0, max: 1, step: 0.01}"
      ],
      "metadata": {
        "cellView": "form",
        "id": "HPAGdPCgqjVb"
      },
      "execution_count": null,
      "outputs": []
    },
    {
      "cell_type": "code",
      "source": [
        "#@title **2.6 Render Steps**\n",
        "\n",
        "render_steps = 50 #@param {type:\"slider\", min: 1, max: 100, step: 1}"
      ],
      "metadata": {
        "cellView": "form",
        "id": "Kikww_aNsTA-"
      },
      "execution_count": null,
      "outputs": []
    },
    {
      "cell_type": "code",
      "source": [
        "#@title **Generate Image**\n",
        "\n",
        "import torch\n",
        "from PIL import Image\n",
        "from IPython.display import display\n",
        "\n",
        "\n",
        "def load_image(image_path):\n",
        "    try:\n",
        "        return Image.open(image_path).convert(\"RGB\")\n",
        "    except Exception as e:\n",
        "        print(f\"Error loading image: {e}\")\n",
        "\n",
        "def process_guidance(guidance, max_value):\n",
        "    try:\n",
        "        return float(max_value) - float(guidance)\n",
        "    except Exception as e:\n",
        "        print(f\"Invalid data type: {e}\")\n",
        "\n",
        "img_before = load_image(input_img_path)\n",
        "display(img_before)\n",
        "\n",
        "config= {\n",
        "         \"image\": img_before,\n",
        "\n",
        "         \"posprompt_1\": prompt,\n",
        "         \"negprompt_1\": negative_prompt,\n",
        "\n",
        "         \"style_names\": styles,\n",
        "         \"functional_names\": functional,\n",
        "\n",
        "         \"season\": season,\n",
        "         \"weather\": weather,\n",
        "         \"time_of_day\": time,\n",
        "         \"landscape\": landscape,\n",
        "\n",
        "         \"guidance\": process_guidance(creative, 15.0),\n",
        "         \"condition_scale\": strength,\n",
        "\n",
        "         \"render_speed\": render_steps\n",
        "         }\n",
        "\n",
        "model.process_config(config)\n",
        "image = model.generate()\n",
        "image.save(\"/content/ArchIntelligent_generated.png\")\n",
        "display(image)\n"
      ],
      "metadata": {
        "id": "slzOs3KAvGEs",
        "cellView": "form"
      },
      "execution_count": null,
      "outputs": []
    },
    {
      "cell_type": "code",
      "source": [],
      "metadata": {
        "id": "o9btoJky2fXi"
      },
      "execution_count": null,
      "outputs": []
    }
  ]
}