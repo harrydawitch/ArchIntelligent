{
  "nbformat": 4,
  "nbformat_minor": 0,
  "metadata": {
    "colab": {
      "provenance": [],
      "machine_shape": "hm",
      "gpuType": "T4",
      "authorship_tag": "ABX9TyNPWMtxt2MG4xlwzQFCagKi",
      "include_colab_link": true
    },
    "kernelspec": {
      "name": "python3",
      "display_name": "Python 3"
    },
    "language_info": {
      "name": "python"
    },
    "accelerator": "GPU"
  },
  "cells": [
    {
      "cell_type": "markdown",
      "metadata": {
        "id": "view-in-github",
        "colab_type": "text"
      },
      "source": [
        "<a href=\"https://colab.research.google.com/github/harrydawitch/ArchIntelligent/blob/master/run_on_colab.ipynb\" target=\"_parent\"><img src=\"https://colab.research.google.com/assets/colab-badge.svg\" alt=\"Open In Colab\"/></a>"
      ]
    },
    {
      "cell_type": "markdown",
      "source": [
        "# **ArchIntelligent - Generative Design for Architects**\n"
      ],
      "metadata": {
        "id": "TmkG_xczZT6t"
      }
    },
    {
      "cell_type": "markdown",
      "source": [
        "# 1. **Clone ArchIntelligent Repository & Load model**\n",
        "\n",
        "---"
      ],
      "metadata": {
        "id": "PoI4SdszzXAh"
      }
    },
    {
      "cell_type": "code",
      "source": [
        "#@title 1.1 **Clone Repository**\n",
        "%cd /content/\n",
        "!git clone https://github.com/harrydawitch/ArchIntelligent.git\n",
        "%cd ArchIntelligent\n",
        "!pip install -q -r requirements.txt 2>/dev/null\n",
        "\n",
        "# install optimizers libraries\n",
        "!pip install -q peft xformers bitsandbytes dotenv"
      ],
      "metadata": {
        "colab": {
          "base_uri": "https://localhost:8080/"
        },
        "id": "fzh9ikaUdjuS",
        "outputId": "1a5b3721-da3b-453f-c235-65d0fe2a5cc6",
        "cellView": "form"
      },
      "execution_count": null,
      "outputs": [
        {
          "output_type": "stream",
          "name": "stdout",
          "text": [
            "/content\n",
            "Cloning into 'ArchIntelligent'...\n",
            "remote: Enumerating objects: 180, done.\u001b[K\n",
            "remote: Counting objects: 100% (127/127), done.\u001b[K\n",
            "remote: Compressing objects: 100% (117/117), done.\u001b[K\n",
            "remote: Total 180 (delta 47), reused 48 (delta 7), pack-reused 53 (from 3)\u001b[K\n",
            "Receiving objects: 100% (180/180), 75.75 MiB | 13.08 MiB/s, done.\n",
            "Resolving deltas: 100% (47/47), done.\n",
            "/content/ArchIntelligent\n",
            "\u001b[2K     \u001b[90m━━━━━━━━━━━━━━━━━━━━━━━━━━━━━━━━━━━━━━━━\u001b[0m \u001b[32m62.0/62.0 kB\u001b[0m \u001b[31m4.7 MB/s\u001b[0m eta \u001b[36m0:00:00\u001b[0m\n",
            "\u001b[2K     \u001b[90m━━━━━━━━━━━━━━━━━━━━━━━━━━━━━━━━━━━━━━━━\u001b[0m \u001b[32m89.9/89.9 kB\u001b[0m \u001b[31m8.6 MB/s\u001b[0m eta \u001b[36m0:00:00\u001b[0m\n",
            "\u001b[2K     \u001b[90m━━━━━━━━━━━━━━━━━━━━━━━━━━━━━━━━━━━━━━━━\u001b[0m \u001b[32m62.0/62.0 kB\u001b[0m \u001b[31m5.2 MB/s\u001b[0m eta \u001b[36m0:00:00\u001b[0m\n",
            "\u001b[2K     \u001b[90m━━━━━━━━━━━━━━━━━━━━━━━━━━━━━━━━━━━━━━━━\u001b[0m \u001b[32m44.3/44.3 kB\u001b[0m \u001b[31m3.6 MB/s\u001b[0m eta \u001b[36m0:00:00\u001b[0m\n",
            "\u001b[2K   \u001b[90m━━━━━━━━━━━━━━━━━━━━━━━━━━━━━━━━━━━━━━━━\u001b[0m \u001b[32m43.4/43.4 MB\u001b[0m \u001b[31m48.7 MB/s\u001b[0m eta \u001b[36m0:00:00\u001b[0m\n",
            "\u001b[2K   \u001b[90m━━━━━━━━━━━━━━━━━━━━━━━━━━━━━━━━━━━━━━━━\u001b[0m \u001b[32m363.4/363.4 MB\u001b[0m \u001b[31m2.8 MB/s\u001b[0m eta \u001b[36m0:00:00\u001b[0m\n",
            "\u001b[2K   \u001b[90m━━━━━━━━━━━━━━━━━━━━━━━━━━━━━━━━━━━━━━━━\u001b[0m \u001b[32m13.8/13.8 MB\u001b[0m \u001b[31m119.1 MB/s\u001b[0m eta \u001b[36m0:00:00\u001b[0m\n",
            "\u001b[2K   \u001b[90m━━━━━━━━━━━━━━━━━━━━━━━━━━━━━━━━━━━━━━━━\u001b[0m \u001b[32m24.6/24.6 MB\u001b[0m \u001b[31m93.9 MB/s\u001b[0m eta \u001b[36m0:00:00\u001b[0m\n",
            "\u001b[2K   \u001b[90m━━━━━━━━━━━━━━━━━━━━━━━━━━━━━━━━━━━━━━━━\u001b[0m \u001b[32m883.7/883.7 kB\u001b[0m \u001b[31m56.1 MB/s\u001b[0m eta \u001b[36m0:00:00\u001b[0m\n",
            "\u001b[2K   \u001b[90m━━━━━━━━━━━━━━━━━━━━━━━━━━━━━━━━━━━━━━━━\u001b[0m \u001b[32m664.8/664.8 MB\u001b[0m \u001b[31m2.1 MB/s\u001b[0m eta \u001b[36m0:00:00\u001b[0m\n",
            "\u001b[2K   \u001b[90m━━━━━━━━━━━━━━━━━━━━━━━━━━━━━━━━━━━━━━━━\u001b[0m \u001b[32m211.5/211.5 MB\u001b[0m \u001b[31m4.7 MB/s\u001b[0m eta \u001b[36m0:00:00\u001b[0m\n",
            "\u001b[2K   \u001b[90m━━━━━━━━━━━━━━━━━━━━━━━━━━━━━━━━━━━━━━━━\u001b[0m \u001b[32m56.3/56.3 MB\u001b[0m \u001b[31m40.9 MB/s\u001b[0m eta \u001b[36m0:00:00\u001b[0m\n",
            "\u001b[2K   \u001b[90m━━━━━━━━━━━━━━━━━━━━━━━━━━━━━━━━━━━━━━━━\u001b[0m \u001b[32m127.9/127.9 MB\u001b[0m \u001b[31m18.6 MB/s\u001b[0m eta \u001b[36m0:00:00\u001b[0m\n",
            "\u001b[2K   \u001b[90m━━━━━━━━━━━━━━━━━━━━━━━━━━━━━━━━━━━━━━━━\u001b[0m \u001b[32m207.5/207.5 MB\u001b[0m \u001b[31m5.1 MB/s\u001b[0m eta \u001b[36m0:00:00\u001b[0m\n",
            "\u001b[2K   \u001b[90m━━━━━━━━━━━━━━━━━━━━━━━━━━━━━━━━━━━━━━━━\u001b[0m \u001b[32m21.1/21.1 MB\u001b[0m \u001b[31m99.0 MB/s\u001b[0m eta \u001b[36m0:00:00\u001b[0m\n",
            "\u001b[2K   \u001b[90m━━━━━━━━━━━━━━━━━━━━━━━━━━━━━━━━━━━━━━━━\u001b[0m \u001b[32m76.1/76.1 MB\u001b[0m \u001b[31m31.2 MB/s\u001b[0m eta \u001b[36m0:00:00\u001b[0m\n",
            "\u001b[?25h"
          ]
        }
      ]
    },
    {
      "cell_type": "code",
      "source": [
        "#@title 1.2 **Check GPU**\n",
        "\n",
        "!nvidia-smi"
      ],
      "metadata": {
        "colab": {
          "base_uri": "https://localhost:8080/"
        },
        "id": "CIHSsxf7z_Zo",
        "outputId": "bf1d374e-64dc-4d78-d9fb-2cc21c06795f",
        "cellView": "form"
      },
      "execution_count": null,
      "outputs": [
        {
          "output_type": "stream",
          "name": "stdout",
          "text": [
            "Wed Apr  9 05:16:15 2025       \n",
            "+-----------------------------------------------------------------------------------------+\n",
            "| NVIDIA-SMI 550.54.15              Driver Version: 550.54.15      CUDA Version: 12.4     |\n",
            "|-----------------------------------------+------------------------+----------------------+\n",
            "| GPU  Name                 Persistence-M | Bus-Id          Disp.A | Volatile Uncorr. ECC |\n",
            "| Fan  Temp   Perf          Pwr:Usage/Cap |           Memory-Usage | GPU-Util  Compute M. |\n",
            "|                                         |                        |               MIG M. |\n",
            "|=========================================+========================+======================|\n",
            "|   0  Tesla T4                       Off |   00000000:00:04.0 Off |                    0 |\n",
            "| N/A   39C    P8             11W /   70W |       0MiB /  15360MiB |      0%      Default |\n",
            "|                                         |                        |                  N/A |\n",
            "+-----------------------------------------+------------------------+----------------------+\n",
            "                                                                                         \n",
            "+-----------------------------------------------------------------------------------------+\n",
            "| Processes:                                                                              |\n",
            "|  GPU   GI   CI        PID   Type   Process name                              GPU Memory |\n",
            "|        ID   ID                                                               Usage      |\n",
            "|=========================================================================================|\n",
            "|  No running processes found                                                             |\n",
            "+-----------------------------------------------------------------------------------------+\n"
          ]
        }
      ]
    },
    {
      "cell_type": "code",
      "source": [
        "#@title 1.3 **Load ArchIntelligent Model**\n",
        "from backend.inference import ArchIntelligent\n",
        "\n",
        "model = ArchIntelligent()"
      ],
      "metadata": {
        "id": "S-GTEQo3zL9z",
        "cellView": "form"
      },
      "execution_count": null,
      "outputs": []
    },
    {
      "cell_type": "markdown",
      "source": [
        "# 2. **Choose settings**\n",
        "---"
      ],
      "metadata": {
        "id": "7_OP3b4LmO-R"
      }
    },
    {
      "cell_type": "code",
      "source": [
        "#@title 2.1 **Input your image**\n",
        "\n",
        "input_img_path = \"\" #@param {type:\"string\"}"
      ],
      "metadata": {
        "id": "hbgNuSEDohgA",
        "cellView": "form"
      },
      "execution_count": null,
      "outputs": []
    },
    {
      "cell_type": "code",
      "source": [
        "#@title **2.2 Choose style and functional of the building**\n",
        "styles = \"Modern\" # @param [\"Modern\", \"Minimalism\",\"Art Deco\", \"Art Nouveau\",\"Baroque\", \"Brutalist\", \"Classical\", \"Neo-Classical\", \"Cyberpunk\", \"Deconstructivism\", \"Futurism\", \"Sustainable\",\"Gothic\",  \"Neo-Futurism\", \"Victorian\"]\n",
        "functional= \"Residential\" # @param [\"Residential\", \"Villa\", \"Office\", \"Skyscraper\", \"Hotel\", \"School Campus\", \"Farmhouse\", \"Playground\", \"Park\", \"Apartment\", \"Hospital\", \"Kindergarten\", \"Church\", \"Container\", \"Bridge\", \"Resort\", \"Airport\", \"Factory\", \"Stadium\", \"Temple\", \"Tree House\"]\n"
      ],
      "metadata": {
        "cellView": "form",
        "id": "cgcIssblmn02"
      },
      "execution_count": null,
      "outputs": []
    },
    {
      "cell_type": "code",
      "source": [
        "#@title **2.3 Add details to your design**\n",
        "\n",
        "season= \"Summer\" #@param [\"Spring\", \"Summer\", \"Autumn\", \"Winter\"]\n",
        "weather= \"Sunny\" #@param ['Sunny', \"Rainy\", \"Cloudy\", \"Foggy\", \"Snowy\", \"Storm\"]\n",
        "time = \"Mid day\" #@param [\"Sunrise\", \"Mid day\", \"Sunset\", \"Night\"]\n",
        "landscape = \"Coastal\" #@param [\"Urban\", \"Suburban\", \"Coastal\", \"Grassland\", 'Forest', 'Tropical', \"Desert\", \"Mountain\", \"Swamp\", \"Polar\"]\n"
      ],
      "metadata": {
        "cellView": "form",
        "id": "kEFHdwMFphbK"
      },
      "execution_count": null,
      "outputs": []
    },
    {
      "cell_type": "code",
      "source": [
        "#@title 2.4 **Use prompt & negative propmt to guide the model**\n",
        "\n",
        "prompt= \"\" #@param {type: \"string\"}\n",
        "negative_prompt= \"\" #@param {type: \"string\"}"
      ],
      "metadata": {
        "cellView": "form",
        "id": "3X0UpQDxsTpA"
      },
      "execution_count": null,
      "outputs": []
    },
    {
      "cell_type": "code",
      "source": [
        "#@title **2.5 Choose creative and image strength**\n",
        "\n",
        "creative = 7.2 #@param {type:\"slider\", min: 0.0, max: 15.0, step: 0.1}\n",
        "strength = 0.48 #@param {type:\"slider\", min: 0, max: 1, step: 0.01}"
      ],
      "metadata": {
        "cellView": "form",
        "id": "HPAGdPCgqjVb"
      },
      "execution_count": null,
      "outputs": []
    },
    {
      "cell_type": "code",
      "source": [
        "#@title **2.6 Render Steps**\n",
        "\n",
        "render_steps = 50 #@param {type:\"slider\", min: 1, max: 100, step: 1}"
      ],
      "metadata": {
        "cellView": "form",
        "id": "Kikww_aNsTA-"
      },
      "execution_count": null,
      "outputs": []
    },
    {
      "cell_type": "code",
      "source": [
        "#@title **Generate Image**\n",
        "\n",
        "import torch\n",
        "from PIL import Image\n",
        "from IPython.display import display\n",
        "\n",
        "\n",
        "def load_image(image_path):\n",
        "    try:\n",
        "        return Image.open(image_path).convert(\"RGB\")\n",
        "    except Exception as e:\n",
        "        print(f\"Error loading image: {e}\")\n",
        "\n",
        "def process_guidance(guidance, max_value):\n",
        "    try:\n",
        "        return float(max_value) - float(guidance)\n",
        "    except Exception as e:\n",
        "        print(f\"Invalid data type: {e}\")\n",
        "\n",
        "img_before = load_image(input_img_path)\n",
        "display(img_before)\n",
        "\n",
        "config= {\n",
        "         \"image\": img_before,\n",
        "\n",
        "         \"posprompt_1\": prompt,\n",
        "         \"negprompt_1\": negative_prompt,\n",
        "\n",
        "         \"style_names\": styles,\n",
        "         \"functional_names\": functional,\n",
        "\n",
        "         \"season\": season,\n",
        "         \"weather\": weather,\n",
        "         \"time_of_day\": time,\n",
        "         \"landscape\": landscape,\n",
        "\n",
        "         \"guidance\": process_guidance(creative, 15.0),\n",
        "         \"condition_scale\": strength,\n",
        "\n",
        "         \"render_speed\": render_steps\n",
        "         }\n",
        "\n",
        "model.process_config(config)\n",
        "image = model.generate()\n",
        "image.save(\"/content/ArchIntelligent_generated.png\")\n",
        "display(image)\n"
      ],
      "metadata": {
        "id": "slzOs3KAvGEs",
        "cellView": "form"
      },
      "execution_count": null,
      "outputs": []
    },
    {
      "cell_type": "code",
      "source": [],
      "metadata": {
        "id": "o9btoJky2fXi"
      },
      "execution_count": null,
      "outputs": []
    }
  ]
}